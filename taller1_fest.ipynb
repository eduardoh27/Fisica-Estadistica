{
  "nbformat": 4,
  "nbformat_minor": 0,
  "metadata": {
    "colab": {
      "provenance": []
    },
    "kernelspec": {
      "name": "python3",
      "display_name": "Python 3"
    },
    "language_info": {
      "name": "python"
    }
  },
  "cells": [
    {
      "cell_type": "code",
      "execution_count": null,
      "metadata": {
        "id": "1hBgvFB7DB1H"
      },
      "outputs": [],
      "source": [
        "from math import factorial\n",
        "\n",
        "def numero_secuencias (numero_paginas, numero_errores):\n",
        "  N = numero_paginas\n",
        "  n = numero_errores\n",
        "  return factorial(N-1+n) // (factorial(N-1)*factorial(n))\n"
      ]
    },
    {
      "cell_type": "code",
      "source": [
        "N = 1400\n",
        "n = 700\n",
        "secuencias_totales = numero_secuencias(1400, 700)\n",
        "print(secuencias_totales)\n",
        "\n",
        "probabilidad_0 = numero_secuencias(N-1,n) / secuencias_totales\n",
        "print(probabilidad_0)\n",
        "\n",
        "\n",
        "probabilidad_2 = numero_secuencias(N-1,n-2) / secuencias_totales\n",
        "print(probabilidad_2)\n",
        "\n",
        "def probabilidad_total():\n",
        "  probabilidad_total = 0\n",
        "  for i in range(0, 700+1):\n",
        "    probabilidad_i = numero_secuencias(N-1,n-i) / secuencias_totales\n",
        "    probabilidad_total += probabilidad_i\n",
        "  return probabilidad_total\n",
        "\n",
        "for i in range(5):\n",
        "  probabilidad_i = numero_secuencias(N-1,n-i) / secuencias_totales\n",
        "  print(f'el numero {i} tiene probabiliad = {probabilidad_i}')\n"
      ],
      "metadata": {
        "colab": {
          "base_uri": "https://localhost:8080/"
        },
        "id": "DWo0BvwOD2G2",
        "outputId": "72f07e33-9fb0-4af6-b114-ea4058839ae3"
      },
      "execution_count": null,
      "outputs": [
        {
          "output_type": "stream",
          "name": "stdout",
          "text": [
            "400770807234247387680635715120814577293234334626243218131149554226659901532315430542469122364611223661928045969817247993278904690094313516326594501681820729824045000593195665917616789953661587791230212074236117102983152458452012512855529372509578961833702517591314213484286924692328151739533373092097089759652022914016290860034178784595813718115907738329173087703830843472560004243802049159900993878925213605305154622022940449944011856467536658790385189375441714481173497257029853610927948153309730500828228137761650280099575105273473515265244591463022453841206681977721485931008\n",
            "0.6665078608861362\n",
            "0.07412702615511525\n",
            "el numero 0 tiene probabiliad = 0.6665078608861362\n",
            "el numero 1 tiene probabiliad = 0.22238107846534574\n",
            "el numero 2 tiene probabiliad = 0.07412702615511525\n",
            "el numero 3 tiene probabiliad = 0.024685431419976357\n",
            "el numero 4 tiene probabiliad = 0.00821276644378211\n"
          ]
        }
      ]
    },
    {
      "cell_type": "code",
      "source": [
        "from random import randint\n",
        " #[0,0 , , 0]1400\n",
        "N = 1400\n",
        "n = 700\n",
        "\n",
        "def simular(numero):\n",
        "  libro = [0]*N\n",
        "  for i in range(n):\n",
        "    pagina = randint(0, N-1)\n",
        "    libro[pagina] += 1\n",
        "\n",
        "  probabilidad = libro.count(numero) / N\n",
        "  return probabilidad\n",
        "\n",
        "for numero in range(8):\n",
        "  n_simul = int(1e4)\n",
        "  suma = 0\n",
        "  for j in range(n_simul):\n",
        "    resultado = simular(numero)\n",
        "    suma += resultado\n",
        "  promedio = suma / n_simul\n",
        "  print(f'numero = {numero} tiene promedio = {promedio}')"
      ],
      "metadata": {
        "colab": {
          "base_uri": "https://localhost:8080/"
        },
        "id": "vfQsmbNfGIEW",
        "outputId": "52d1a9bb-a86a-403d-dfe7-e5f2e28ef993"
      },
      "execution_count": null,
      "outputs": [
        {
          "output_type": "stream",
          "name": "stdout",
          "text": [
            "numero = 0 tiene promedio = 0.6064317857142812\n",
            "numero = 1 tiene promedio = 0.30320528571428546\n",
            "numero = 2 tiene promedio = 0.07582407142857124\n",
            "numero = 3 tiene promedio = 0.012584285714286075\n",
            "numero = 4 tiene promedio = 0.0015705714285714832\n",
            "numero = 5 tiene promedio = 0.00015621428571428007\n",
            "numero = 6 tiene promedio = 1.2928571428571398e-05\n",
            "numero = 7 tiene promedio = 1.5714285714285714e-06\n"
          ]
        }
      ]
    },
    {
      "cell_type": "code",
      "source": [
        "from math import e\n",
        "l = 0.5\n",
        "def poisson(y):\n",
        "  return ( (e**-l) * (l**y) ) / factorial(y)\n",
        "\n",
        "for i in range(5):\n",
        "  print(poisson(i))"
      ],
      "metadata": {
        "colab": {
          "base_uri": "https://localhost:8080/"
        },
        "id": "qkK6Fa5YLv00",
        "outputId": "aabed995-c419-45e4-c541-88c9e7910821"
      },
      "execution_count": null,
      "outputs": [
        {
          "output_type": "stream",
          "name": "stdout",
          "text": [
            "0.6065306597126334\n",
            "0.3032653298563167\n",
            "0.07581633246407918\n",
            "0.012636055410679864\n",
            "0.001579506926334983\n"
          ]
        }
      ]
    }
  ]
}